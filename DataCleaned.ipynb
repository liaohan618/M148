{
 "cells": [
  {
   "cell_type": "code",
   "execution_count": 2,
   "metadata": {},
   "outputs": [],
   "source": [
    "import pandas as pd\n",
    "import numpy as np\n",
    "import matplotlib.pyplot as plt"
   ]
  },
  {
   "cell_type": "code",
   "execution_count": 3,
   "metadata": {},
   "outputs": [],
   "source": [
    "# import file\n",
    "export = pd.read_csv(\"export.csv\", dtype={\n",
    "    'customer_id' : 'string',\n",
    "    'account_id' : 'string',\n",
    "    'ed_id' : 'string',\n",
    "    'event_name' : 'string'\n",
    "})"
   ]
  },
  {
   "cell_type": "markdown",
   "metadata": {},
   "source": [
    "# Cleaned Data : (1) Only accounts received promotion"
   ]
  },
  {
   "cell_type": "markdown",
   "metadata": {},
   "source": [
    "Based on earlier investigation, there are 1735457 unqiue account ids, around 75.3% of accounts have 'promotion_created' in their events."
   ]
  },
  {
   "cell_type": "code",
   "execution_count": 4,
   "metadata": {},
   "outputs": [
    {
     "data": {
      "text/plain": [
       "1307785"
      ]
     },
     "execution_count": 4,
     "metadata": {},
     "output_type": "execute_result"
    }
   ],
   "source": [
    "# A list of accounts that have ever 'promotion_created'\n",
    "account_promo = export[export['event_name'] == 'promotion_created']['account_id'].drop_duplicates().tolist()\n",
    "len(account_promo)"
   ]
  },
  {
   "cell_type": "code",
   "execution_count": 5,
   "metadata": {},
   "outputs": [
    {
     "data": {
      "text/html": [
       "<div>\n",
       "<style scoped>\n",
       "    .dataframe tbody tr th:only-of-type {\n",
       "        vertical-align: middle;\n",
       "    }\n",
       "\n",
       "    .dataframe tbody tr th {\n",
       "        vertical-align: top;\n",
       "    }\n",
       "\n",
       "    .dataframe thead th {\n",
       "        text-align: right;\n",
       "    }\n",
       "</style>\n",
       "<table border=\"1\" class=\"dataframe\">\n",
       "  <thead>\n",
       "    <tr style=\"text-align: right;\">\n",
       "      <th></th>\n",
       "      <th>customer_id</th>\n",
       "      <th>account_id</th>\n",
       "      <th>ed_id</th>\n",
       "      <th>event_name</th>\n",
       "      <th>event_timestamp</th>\n",
       "      <th>journey_steps_until_end</th>\n",
       "    </tr>\n",
       "  </thead>\n",
       "  <tbody>\n",
       "    <tr>\n",
       "      <th>24</th>\n",
       "      <td>15849251</td>\n",
       "      <td>383997507</td>\n",
       "      <td>4</td>\n",
       "      <td>browse_products</td>\n",
       "      <td>2021-11-04T14:11:15.000Z</td>\n",
       "      <td>1</td>\n",
       "    </tr>\n",
       "    <tr>\n",
       "      <th>25</th>\n",
       "      <td>15849251</td>\n",
       "      <td>383997507</td>\n",
       "      <td>4</td>\n",
       "      <td>browse_products</td>\n",
       "      <td>2021-11-04T14:11:29.000Z</td>\n",
       "      <td>2</td>\n",
       "    </tr>\n",
       "    <tr>\n",
       "      <th>26</th>\n",
       "      <td>15849251</td>\n",
       "      <td>383997507</td>\n",
       "      <td>4</td>\n",
       "      <td>browse_products</td>\n",
       "      <td>2021-11-04T14:12:10.000Z</td>\n",
       "      <td>3</td>\n",
       "    </tr>\n",
       "    <tr>\n",
       "      <th>27</th>\n",
       "      <td>15849251</td>\n",
       "      <td>383997507</td>\n",
       "      <td>4</td>\n",
       "      <td>browse_products</td>\n",
       "      <td>2021-11-04T14:12:21.000Z</td>\n",
       "      <td>4</td>\n",
       "    </tr>\n",
       "    <tr>\n",
       "      <th>28</th>\n",
       "      <td>15849251</td>\n",
       "      <td>383997507</td>\n",
       "      <td>4</td>\n",
       "      <td>browse_products</td>\n",
       "      <td>2021-11-04T14:12:24.000Z</td>\n",
       "      <td>5</td>\n",
       "    </tr>\n",
       "  </tbody>\n",
       "</table>\n",
       "</div>"
      ],
      "text/plain": [
       "   customer_id account_id ed_id       event_name           event_timestamp  \\\n",
       "24    15849251  383997507     4  browse_products  2021-11-04T14:11:15.000Z   \n",
       "25    15849251  383997507     4  browse_products  2021-11-04T14:11:29.000Z   \n",
       "26    15849251  383997507     4  browse_products  2021-11-04T14:12:10.000Z   \n",
       "27    15849251  383997507     4  browse_products  2021-11-04T14:12:21.000Z   \n",
       "28    15849251  383997507     4  browse_products  2021-11-04T14:12:24.000Z   \n",
       "\n",
       "    journey_steps_until_end  \n",
       "24                        1  \n",
       "25                        2  \n",
       "26                        3  \n",
       "27                        4  \n",
       "28                        5  "
      ]
     },
     "execution_count": 5,
     "metadata": {},
     "output_type": "execute_result"
    }
   ],
   "source": [
    "# A data frame contains information corresponding to these accounts\n",
    "export_promo = export[export['account_id'].isin(account_promo)]\n",
    "export_promo.head()"
   ]
  },
  {
   "cell_type": "code",
   "execution_count": 6,
   "metadata": {},
   "outputs": [
    {
     "data": {
      "text/plain": [
       "345967638"
      ]
     },
     "execution_count": 6,
     "metadata": {},
     "output_type": "execute_result"
    }
   ],
   "source": [
    "np.size(export_promo)"
   ]
  },
  {
   "cell_type": "markdown",
   "metadata": {},
   "source": [
    "# Cleaned Data : (2) Slice accounts into 10 pieces; each around 130778 accounts"
   ]
  },
  {
   "cell_type": "code",
   "execution_count": 7,
   "metadata": {},
   "outputs": [
    {
     "name": "stdout",
     "output_type": "stream",
     "text": [
      "130778\n"
     ]
    }
   ],
   "source": [
    "chunk_size = len(account_promo) // 10\n",
    "\n",
    "account_promo1 = account_promo[0:chunk_size]\n",
    "account_promo2 = account_promo[chunk_size:2*chunk_size]\n",
    "account_promo3 = account_promo[2*chunk_size:3*chunk_size]\n",
    "account_promo4 = account_promo[3*chunk_size:4*chunk_size]\n",
    "account_promo5 = account_promo[4*chunk_size:5*chunk_size]\n",
    "account_promo6 = account_promo[5*chunk_size:6*chunk_size]\n",
    "account_promo7 = account_promo[6*chunk_size:7*chunk_size]\n",
    "account_promo8 = account_promo[7*chunk_size:8*chunk_size]\n",
    "account_promo9 = account_promo[8*chunk_size:9*chunk_size]\n",
    "account_promo10 = account_promo[9*chunk_size:]\n",
    "\n",
    "print(chunk_size)"
   ]
  },
  {
   "cell_type": "markdown",
   "metadata": {},
   "source": [
    "# Cleaned Data : (3) 10 smaller data frames that contain corresponding information; Convert datetime"
   ]
  },
  {
   "cell_type": "code",
   "execution_count": 8,
   "metadata": {},
   "outputs": [
    {
     "name": "stderr",
     "output_type": "stream",
     "text": [
      "/var/folders/tp/6kwhdvr504795tj0h4_byy2c0000gn/T/ipykernel_76505/2243951908.py:2: SettingWithCopyWarning: \n",
      "A value is trying to be set on a copy of a slice from a DataFrame.\n",
      "Try using .loc[row_indexer,col_indexer] = value instead\n",
      "\n",
      "See the caveats in the documentation: https://pandas.pydata.org/pandas-docs/stable/user_guide/indexing.html#returning-a-view-versus-a-copy\n",
      "  export_promo1['event_timestamp'] = pd.to_datetime(export_promo1['event_timestamp'], errors='coerce')\n"
     ]
    },
    {
     "data": {
      "text/html": [
       "<div>\n",
       "<style scoped>\n",
       "    .dataframe tbody tr th:only-of-type {\n",
       "        vertical-align: middle;\n",
       "    }\n",
       "\n",
       "    .dataframe tbody tr th {\n",
       "        vertical-align: top;\n",
       "    }\n",
       "\n",
       "    .dataframe thead th {\n",
       "        text-align: right;\n",
       "    }\n",
       "</style>\n",
       "<table border=\"1\" class=\"dataframe\">\n",
       "  <thead>\n",
       "    <tr style=\"text-align: right;\">\n",
       "      <th></th>\n",
       "      <th>customer_id</th>\n",
       "      <th>account_id</th>\n",
       "      <th>ed_id</th>\n",
       "      <th>event_name</th>\n",
       "      <th>event_timestamp</th>\n",
       "      <th>journey_steps_until_end</th>\n",
       "    </tr>\n",
       "  </thead>\n",
       "  <tbody>\n",
       "    <tr>\n",
       "      <th>24</th>\n",
       "      <td>15849251</td>\n",
       "      <td>383997507</td>\n",
       "      <td>4</td>\n",
       "      <td>browse_products</td>\n",
       "      <td>2021-11-04 14:11:15+00:00</td>\n",
       "      <td>1</td>\n",
       "    </tr>\n",
       "    <tr>\n",
       "      <th>25</th>\n",
       "      <td>15849251</td>\n",
       "      <td>383997507</td>\n",
       "      <td>4</td>\n",
       "      <td>browse_products</td>\n",
       "      <td>2021-11-04 14:11:29+00:00</td>\n",
       "      <td>2</td>\n",
       "    </tr>\n",
       "    <tr>\n",
       "      <th>26</th>\n",
       "      <td>15849251</td>\n",
       "      <td>383997507</td>\n",
       "      <td>4</td>\n",
       "      <td>browse_products</td>\n",
       "      <td>2021-11-04 14:12:10+00:00</td>\n",
       "      <td>3</td>\n",
       "    </tr>\n",
       "    <tr>\n",
       "      <th>27</th>\n",
       "      <td>15849251</td>\n",
       "      <td>383997507</td>\n",
       "      <td>4</td>\n",
       "      <td>browse_products</td>\n",
       "      <td>2021-11-04 14:12:21+00:00</td>\n",
       "      <td>4</td>\n",
       "    </tr>\n",
       "    <tr>\n",
       "      <th>28</th>\n",
       "      <td>15849251</td>\n",
       "      <td>383997507</td>\n",
       "      <td>4</td>\n",
       "      <td>browse_products</td>\n",
       "      <td>2021-11-04 14:12:24+00:00</td>\n",
       "      <td>5</td>\n",
       "    </tr>\n",
       "    <tr>\n",
       "      <th>...</th>\n",
       "      <td>...</td>\n",
       "      <td>...</td>\n",
       "      <td>...</td>\n",
       "      <td>...</td>\n",
       "      <td>...</td>\n",
       "      <td>...</td>\n",
       "    </tr>\n",
       "    <tr>\n",
       "      <th>64466088</th>\n",
       "      <td>1585001359</td>\n",
       "      <td>-2058537267</td>\n",
       "      <td>3</td>\n",
       "      <td>application_web_submit</td>\n",
       "      <td>2022-04-14 21:17:13+00:00</td>\n",
       "      <td>36</td>\n",
       "    </tr>\n",
       "    <tr>\n",
       "      <th>64466089</th>\n",
       "      <td>1585001359</td>\n",
       "      <td>-2058537267</td>\n",
       "      <td>19</td>\n",
       "      <td>application_web_view</td>\n",
       "      <td>2022-04-14 21:17:13+00:00</td>\n",
       "      <td>37</td>\n",
       "    </tr>\n",
       "    <tr>\n",
       "      <th>64466090</th>\n",
       "      <td>1585001359</td>\n",
       "      <td>-2058537267</td>\n",
       "      <td>19</td>\n",
       "      <td>application_web_view</td>\n",
       "      <td>2022-04-14 21:17:13+00:00</td>\n",
       "      <td>38</td>\n",
       "    </tr>\n",
       "    <tr>\n",
       "      <th>64466091</th>\n",
       "      <td>1585001359</td>\n",
       "      <td>-2058537267</td>\n",
       "      <td>1</td>\n",
       "      <td>promotion_created</td>\n",
       "      <td>2022-05-03 07:07:19.623000+00:00</td>\n",
       "      <td>39</td>\n",
       "    </tr>\n",
       "    <tr>\n",
       "      <th>64466092</th>\n",
       "      <td>1585001359</td>\n",
       "      <td>-2058537267</td>\n",
       "      <td>1</td>\n",
       "      <td>promotion_created</td>\n",
       "      <td>2022-06-01 07:09:48.273000+00:00</td>\n",
       "      <td>40</td>\n",
       "    </tr>\n",
       "  </tbody>\n",
       "</table>\n",
       "<p>5808460 rows × 6 columns</p>\n",
       "</div>"
      ],
      "text/plain": [
       "         customer_id   account_id ed_id              event_name  \\\n",
       "24          15849251    383997507     4         browse_products   \n",
       "25          15849251    383997507     4         browse_products   \n",
       "26          15849251    383997507     4         browse_products   \n",
       "27          15849251    383997507     4         browse_products   \n",
       "28          15849251    383997507     4         browse_products   \n",
       "...              ...          ...   ...                     ...   \n",
       "64466088  1585001359  -2058537267     3  application_web_submit   \n",
       "64466089  1585001359  -2058537267    19    application_web_view   \n",
       "64466090  1585001359  -2058537267    19    application_web_view   \n",
       "64466091  1585001359  -2058537267     1       promotion_created   \n",
       "64466092  1585001359  -2058537267     1       promotion_created   \n",
       "\n",
       "                          event_timestamp  journey_steps_until_end  \n",
       "24              2021-11-04 14:11:15+00:00                        1  \n",
       "25              2021-11-04 14:11:29+00:00                        2  \n",
       "26              2021-11-04 14:12:10+00:00                        3  \n",
       "27              2021-11-04 14:12:21+00:00                        4  \n",
       "28              2021-11-04 14:12:24+00:00                        5  \n",
       "...                                   ...                      ...  \n",
       "64466088        2022-04-14 21:17:13+00:00                       36  \n",
       "64466089        2022-04-14 21:17:13+00:00                       37  \n",
       "64466090        2022-04-14 21:17:13+00:00                       38  \n",
       "64466091 2022-05-03 07:07:19.623000+00:00                       39  \n",
       "64466092 2022-06-01 07:09:48.273000+00:00                       40  \n",
       "\n",
       "[5808460 rows x 6 columns]"
      ]
     },
     "execution_count": 8,
     "metadata": {},
     "output_type": "execute_result"
    }
   ],
   "source": [
    "export_promo1 = export_promo[export_promo['account_id'].isin(account_promo1)]\n",
    "export_promo1['event_timestamp'] = pd.to_datetime(export_promo1['event_timestamp'], errors='coerce')\n",
    "export_promo1"
   ]
  },
  {
   "cell_type": "code",
   "execution_count": 9,
   "metadata": {},
   "outputs": [
    {
     "data": {
      "text/plain": [
       "5808460"
      ]
     },
     "execution_count": 9,
     "metadata": {},
     "output_type": "execute_result"
    }
   ],
   "source": [
    "len(export_promo1)"
   ]
  },
  {
   "cell_type": "code",
   "execution_count": 10,
   "metadata": {},
   "outputs": [
    {
     "name": "stderr",
     "output_type": "stream",
     "text": [
      "/var/folders/tp/6kwhdvr504795tj0h4_byy2c0000gn/T/ipykernel_76505/1871907517.py:2: SettingWithCopyWarning: \n",
      "A value is trying to be set on a copy of a slice from a DataFrame.\n",
      "Try using .loc[row_indexer,col_indexer] = value instead\n",
      "\n",
      "See the caveats in the documentation: https://pandas.pydata.org/pandas-docs/stable/user_guide/indexing.html#returning-a-view-versus-a-copy\n",
      "  export_promo2['event_timestamp'] = pd.to_datetime(export_promo2['event_timestamp'], errors='coerce')\n"
     ]
    }
   ],
   "source": [
    "export_promo2 = export_promo[export_promo['account_id'].isin(account_promo2)]\n",
    "export_promo2['event_timestamp'] = pd.to_datetime(export_promo2['event_timestamp'], errors='coerce')"
   ]
  },
  {
   "cell_type": "code",
   "execution_count": 11,
   "metadata": {},
   "outputs": [
    {
     "name": "stderr",
     "output_type": "stream",
     "text": [
      "/var/folders/tp/6kwhdvr504795tj0h4_byy2c0000gn/T/ipykernel_76505/1576968420.py:2: SettingWithCopyWarning: \n",
      "A value is trying to be set on a copy of a slice from a DataFrame.\n",
      "Try using .loc[row_indexer,col_indexer] = value instead\n",
      "\n",
      "See the caveats in the documentation: https://pandas.pydata.org/pandas-docs/stable/user_guide/indexing.html#returning-a-view-versus-a-copy\n",
      "  export_promo3['event_timestamp'] = pd.to_datetime(export_promo3['event_timestamp'], errors='coerce')\n"
     ]
    },
    {
     "data": {
      "text/plain": [
       "5780459"
      ]
     },
     "execution_count": 11,
     "metadata": {},
     "output_type": "execute_result"
    }
   ],
   "source": [
    "export_promo3 = export_promo[export_promo['account_id'].isin(account_promo3)]\n",
    "export_promo3['event_timestamp'] = pd.to_datetime(export_promo3['event_timestamp'], errors='coerce')\n",
    "len(export_promo3)"
   ]
  },
  {
   "cell_type": "code",
   "execution_count": 12,
   "metadata": {},
   "outputs": [
    {
     "name": "stderr",
     "output_type": "stream",
     "text": [
      "/var/folders/tp/6kwhdvr504795tj0h4_byy2c0000gn/T/ipykernel_76505/4272743633.py:2: SettingWithCopyWarning: \n",
      "A value is trying to be set on a copy of a slice from a DataFrame.\n",
      "Try using .loc[row_indexer,col_indexer] = value instead\n",
      "\n",
      "See the caveats in the documentation: https://pandas.pydata.org/pandas-docs/stable/user_guide/indexing.html#returning-a-view-versus-a-copy\n",
      "  export_promo4['event_timestamp'] = pd.to_datetime(export_promo4['event_timestamp'], errors='coerce')\n"
     ]
    }
   ],
   "source": [
    "export_promo4 = export_promo[export_promo['account_id'].isin(account_promo4)]\n",
    "export_promo4['event_timestamp'] = pd.to_datetime(export_promo4['event_timestamp'], errors='coerce')"
   ]
  },
  {
   "cell_type": "code",
   "execution_count": 29,
   "metadata": {},
   "outputs": [
    {
     "name": "stderr",
     "output_type": "stream",
     "text": [
      "/var/folders/tp/6kwhdvr504795tj0h4_byy2c0000gn/T/ipykernel_76505/1515444227.py:2: SettingWithCopyWarning: \n",
      "A value is trying to be set on a copy of a slice from a DataFrame.\n",
      "Try using .loc[row_indexer,col_indexer] = value instead\n",
      "\n",
      "See the caveats in the documentation: https://pandas.pydata.org/pandas-docs/stable/user_guide/indexing.html#returning-a-view-versus-a-copy\n",
      "  export_promo5['event_timestamp'] = pd.to_datetime(export_promo5['event_timestamp'], errors='coerce')\n"
     ]
    }
   ],
   "source": [
    "export_promo5 = export_promo[export_promo['account_id'].isin(account_promo5)]\n",
    "export_promo5['event_timestamp'] = pd.to_datetime(export_promo5['event_timestamp'], errors='coerce')"
   ]
  },
  {
   "cell_type": "code",
   "execution_count": 14,
   "metadata": {},
   "outputs": [
    {
     "name": "stderr",
     "output_type": "stream",
     "text": [
      "/var/folders/tp/6kwhdvr504795tj0h4_byy2c0000gn/T/ipykernel_76505/2732801020.py:2: SettingWithCopyWarning: \n",
      "A value is trying to be set on a copy of a slice from a DataFrame.\n",
      "Try using .loc[row_indexer,col_indexer] = value instead\n",
      "\n",
      "See the caveats in the documentation: https://pandas.pydata.org/pandas-docs/stable/user_guide/indexing.html#returning-a-view-versus-a-copy\n",
      "  export_promo6['event_timestamp'] = pd.to_datetime(export_promo6['event_timestamp'], errors='coerce')\n"
     ]
    }
   ],
   "source": [
    "export_promo6 = export_promo[export_promo['account_id'].isin(account_promo6)]\n",
    "export_promo6['event_timestamp'] = pd.to_datetime(export_promo6['event_timestamp'], errors='coerce')"
   ]
  },
  {
   "cell_type": "code",
   "execution_count": 15,
   "metadata": {},
   "outputs": [
    {
     "name": "stderr",
     "output_type": "stream",
     "text": [
      "/var/folders/tp/6kwhdvr504795tj0h4_byy2c0000gn/T/ipykernel_76505/705350202.py:2: SettingWithCopyWarning: \n",
      "A value is trying to be set on a copy of a slice from a DataFrame.\n",
      "Try using .loc[row_indexer,col_indexer] = value instead\n",
      "\n",
      "See the caveats in the documentation: https://pandas.pydata.org/pandas-docs/stable/user_guide/indexing.html#returning-a-view-versus-a-copy\n",
      "  export_promo7['event_timestamp'] = pd.to_datetime(export_promo6['event_timestamp'], errors='coerce')\n"
     ]
    }
   ],
   "source": [
    "export_promo7 = export_promo[export_promo['account_id'].isin(account_promo7)]\n",
    "export_promo7['event_timestamp'] = pd.to_datetime(export_promo6['event_timestamp'], errors='coerce')"
   ]
  },
  {
   "cell_type": "code",
   "execution_count": 16,
   "metadata": {},
   "outputs": [
    {
     "name": "stderr",
     "output_type": "stream",
     "text": [
      "/var/folders/tp/6kwhdvr504795tj0h4_byy2c0000gn/T/ipykernel_76505/2647366018.py:2: SettingWithCopyWarning: \n",
      "A value is trying to be set on a copy of a slice from a DataFrame.\n",
      "Try using .loc[row_indexer,col_indexer] = value instead\n",
      "\n",
      "See the caveats in the documentation: https://pandas.pydata.org/pandas-docs/stable/user_guide/indexing.html#returning-a-view-versus-a-copy\n",
      "  export_promo8['event_timestamp'] = pd.to_datetime(export_promo6['event_timestamp'], errors='coerce')\n"
     ]
    }
   ],
   "source": [
    "export_promo8 = export_promo[export_promo['account_id'].isin(account_promo8)]\n",
    "export_promo8['event_timestamp'] = pd.to_datetime(export_promo6['event_timestamp'], errors='coerce')"
   ]
  },
  {
   "cell_type": "code",
   "execution_count": 17,
   "metadata": {},
   "outputs": [
    {
     "name": "stderr",
     "output_type": "stream",
     "text": [
      "/var/folders/tp/6kwhdvr504795tj0h4_byy2c0000gn/T/ipykernel_76505/1520798669.py:2: SettingWithCopyWarning: \n",
      "A value is trying to be set on a copy of a slice from a DataFrame.\n",
      "Try using .loc[row_indexer,col_indexer] = value instead\n",
      "\n",
      "See the caveats in the documentation: https://pandas.pydata.org/pandas-docs/stable/user_guide/indexing.html#returning-a-view-versus-a-copy\n",
      "  export_promo9['event_timestamp'] = pd.to_datetime(export_promo6['event_timestamp'], errors='coerce')\n"
     ]
    }
   ],
   "source": [
    "export_promo9 = export_promo[export_promo['account_id'].isin(account_promo9)]\n",
    "export_promo9['event_timestamp'] = pd.to_datetime(export_promo6['event_timestamp'], errors='coerce')"
   ]
  },
  {
   "cell_type": "code",
   "execution_count": 18,
   "metadata": {},
   "outputs": [
    {
     "name": "stderr",
     "output_type": "stream",
     "text": [
      "/var/folders/tp/6kwhdvr504795tj0h4_byy2c0000gn/T/ipykernel_76505/174948079.py:2: SettingWithCopyWarning: \n",
      "A value is trying to be set on a copy of a slice from a DataFrame.\n",
      "Try using .loc[row_indexer,col_indexer] = value instead\n",
      "\n",
      "See the caveats in the documentation: https://pandas.pydata.org/pandas-docs/stable/user_guide/indexing.html#returning-a-view-versus-a-copy\n",
      "  export_promo10['event_timestamp'] = pd.to_datetime(export_promo6['event_timestamp'], errors='coerce')\n"
     ]
    }
   ],
   "source": [
    "export_promo10 = export_promo[export_promo['account_id'].isin(account_promo10)]\n",
    "export_promo10['event_timestamp'] = pd.to_datetime(export_promo6['event_timestamp'], errors='coerce')"
   ]
  },
  {
   "cell_type": "markdown",
   "metadata": {},
   "source": [
    "# Cleaned Data : (3) Duplicate event rows removed"
   ]
  },
  {
   "cell_type": "code",
   "execution_count": 19,
   "metadata": {},
   "outputs": [
    {
     "name": "stderr",
     "output_type": "stream",
     "text": [
      "/var/folders/tp/6kwhdvr504795tj0h4_byy2c0000gn/T/ipykernel_76505/2440332246.py:2: SettingWithCopyWarning: \n",
      "A value is trying to be set on a copy of a slice from a DataFrame\n",
      "\n",
      "See the caveats in the documentation: https://pandas.pydata.org/pandas-docs/stable/user_guide/indexing.html#returning-a-view-versus-a-copy\n",
      "  export_promo1.drop_duplicates(subset=['account_id', 'event_name', 'event_timestamp'], keep='first', inplace=True)\n"
     ]
    }
   ],
   "source": [
    "# keeping only the first occurrence of each unique combination of 'account_id', 'event_name', and 'event_timestamp'\n",
    "export_promo1.drop_duplicates(subset=['account_id', 'event_name', 'event_timestamp'], keep='first', inplace=True)"
   ]
  },
  {
   "cell_type": "code",
   "execution_count": 20,
   "metadata": {},
   "outputs": [
    {
     "data": {
      "text/plain": [
       "5164852"
      ]
     },
     "execution_count": 20,
     "metadata": {},
     "output_type": "execute_result"
    }
   ],
   "source": [
    "len(export_promo1)"
   ]
  },
  {
   "cell_type": "code",
   "execution_count": 21,
   "metadata": {},
   "outputs": [
    {
     "name": "stderr",
     "output_type": "stream",
     "text": [
      "/var/folders/tp/6kwhdvr504795tj0h4_byy2c0000gn/T/ipykernel_76505/1002341411.py:1: SettingWithCopyWarning: \n",
      "A value is trying to be set on a copy of a slice from a DataFrame\n",
      "\n",
      "See the caveats in the documentation: https://pandas.pydata.org/pandas-docs/stable/user_guide/indexing.html#returning-a-view-versus-a-copy\n",
      "  export_promo2.drop_duplicates(subset=['account_id', 'event_name', 'event_timestamp'], keep='first', inplace=True)\n"
     ]
    },
    {
     "data": {
      "text/plain": [
       "5136091"
      ]
     },
     "execution_count": 21,
     "metadata": {},
     "output_type": "execute_result"
    }
   ],
   "source": [
    "export_promo2.drop_duplicates(subset=['account_id', 'event_name', 'event_timestamp'], keep='first', inplace=True)\n",
    "len(export_promo2)"
   ]
  },
  {
   "cell_type": "code",
   "execution_count": 22,
   "metadata": {},
   "outputs": [
    {
     "name": "stderr",
     "output_type": "stream",
     "text": [
      "/var/folders/tp/6kwhdvr504795tj0h4_byy2c0000gn/T/ipykernel_76505/3713067474.py:1: SettingWithCopyWarning: \n",
      "A value is trying to be set on a copy of a slice from a DataFrame\n",
      "\n",
      "See the caveats in the documentation: https://pandas.pydata.org/pandas-docs/stable/user_guide/indexing.html#returning-a-view-versus-a-copy\n",
      "  export_promo3.drop_duplicates(subset=['account_id', 'event_name', 'event_timestamp'], keep='first', inplace=True)\n"
     ]
    },
    {
     "data": {
      "text/plain": [
       "5156926"
      ]
     },
     "execution_count": 22,
     "metadata": {},
     "output_type": "execute_result"
    }
   ],
   "source": [
    "export_promo3.drop_duplicates(subset=['account_id', 'event_name', 'event_timestamp'], keep='first', inplace=True)\n",
    "len(export_promo3)"
   ]
  },
  {
   "cell_type": "code",
   "execution_count": 23,
   "metadata": {},
   "outputs": [
    {
     "name": "stderr",
     "output_type": "stream",
     "text": [
      "/var/folders/tp/6kwhdvr504795tj0h4_byy2c0000gn/T/ipykernel_76505/1039072577.py:1: SettingWithCopyWarning: \n",
      "A value is trying to be set on a copy of a slice from a DataFrame\n",
      "\n",
      "See the caveats in the documentation: https://pandas.pydata.org/pandas-docs/stable/user_guide/indexing.html#returning-a-view-versus-a-copy\n",
      "  export_promo4.drop_duplicates(subset=['account_id', 'event_name', 'event_timestamp'], keep='first', inplace=True)\n"
     ]
    },
    {
     "data": {
      "text/plain": [
       "5150140"
      ]
     },
     "execution_count": 23,
     "metadata": {},
     "output_type": "execute_result"
    }
   ],
   "source": [
    "export_promo4.drop_duplicates(subset=['account_id', 'event_name', 'event_timestamp'], keep='first', inplace=True)\n",
    "len(export_promo4)"
   ]
  },
  {
   "cell_type": "code",
   "execution_count": 30,
   "metadata": {},
   "outputs": [
    {
     "name": "stderr",
     "output_type": "stream",
     "text": [
      "/var/folders/tp/6kwhdvr504795tj0h4_byy2c0000gn/T/ipykernel_76505/207150800.py:1: SettingWithCopyWarning: \n",
      "A value is trying to be set on a copy of a slice from a DataFrame\n",
      "\n",
      "See the caveats in the documentation: https://pandas.pydata.org/pandas-docs/stable/user_guide/indexing.html#returning-a-view-versus-a-copy\n",
      "  export_promo5.drop_duplicates(subset=['account_id', 'event_name', 'event_timestamp'], keep='first', inplace=True)\n"
     ]
    }
   ],
   "source": [
    "export_promo5.drop_duplicates(subset=['account_id', 'event_name', 'event_timestamp'], keep='first', inplace=True)"
   ]
  },
  {
   "cell_type": "code",
   "execution_count": 31,
   "metadata": {},
   "outputs": [
    {
     "name": "stderr",
     "output_type": "stream",
     "text": [
      "/var/folders/tp/6kwhdvr504795tj0h4_byy2c0000gn/T/ipykernel_76505/1326514510.py:1: SettingWithCopyWarning: \n",
      "A value is trying to be set on a copy of a slice from a DataFrame\n",
      "\n",
      "See the caveats in the documentation: https://pandas.pydata.org/pandas-docs/stable/user_guide/indexing.html#returning-a-view-versus-a-copy\n",
      "  export_promo6.drop_duplicates(subset=['account_id', 'event_name', 'event_timestamp'], keep='first', inplace=True)\n"
     ]
    }
   ],
   "source": [
    "export_promo6.drop_duplicates(subset=['account_id', 'event_name', 'event_timestamp'], keep='first', inplace=True)"
   ]
  },
  {
   "cell_type": "code",
   "execution_count": 33,
   "metadata": {},
   "outputs": [
    {
     "name": "stderr",
     "output_type": "stream",
     "text": [
      "/var/folders/tp/6kwhdvr504795tj0h4_byy2c0000gn/T/ipykernel_76505/1639734472.py:1: SettingWithCopyWarning: \n",
      "A value is trying to be set on a copy of a slice from a DataFrame\n",
      "\n",
      "See the caveats in the documentation: https://pandas.pydata.org/pandas-docs/stable/user_guide/indexing.html#returning-a-view-versus-a-copy\n",
      "  export_promo7.drop_duplicates(subset=['account_id', 'event_name', 'event_timestamp'], keep='first', inplace=True)\n"
     ]
    }
   ],
   "source": [
    "export_promo7.drop_duplicates(subset=['account_id', 'event_name', 'event_timestamp'], keep='first', inplace=True)"
   ]
  },
  {
   "cell_type": "code",
   "execution_count": 34,
   "metadata": {},
   "outputs": [
    {
     "name": "stderr",
     "output_type": "stream",
     "text": [
      "/var/folders/tp/6kwhdvr504795tj0h4_byy2c0000gn/T/ipykernel_76505/2951816814.py:1: SettingWithCopyWarning: \n",
      "A value is trying to be set on a copy of a slice from a DataFrame\n",
      "\n",
      "See the caveats in the documentation: https://pandas.pydata.org/pandas-docs/stable/user_guide/indexing.html#returning-a-view-versus-a-copy\n",
      "  export_promo8.drop_duplicates(subset=['account_id', 'event_name', 'event_timestamp'], keep='first', inplace=True)\n"
     ]
    }
   ],
   "source": [
    "export_promo8.drop_duplicates(subset=['account_id', 'event_name', 'event_timestamp'], keep='first', inplace=True)"
   ]
  },
  {
   "cell_type": "code",
   "execution_count": 35,
   "metadata": {},
   "outputs": [
    {
     "name": "stderr",
     "output_type": "stream",
     "text": [
      "/var/folders/tp/6kwhdvr504795tj0h4_byy2c0000gn/T/ipykernel_76505/3983991765.py:1: SettingWithCopyWarning: \n",
      "A value is trying to be set on a copy of a slice from a DataFrame\n",
      "\n",
      "See the caveats in the documentation: https://pandas.pydata.org/pandas-docs/stable/user_guide/indexing.html#returning-a-view-versus-a-copy\n",
      "  export_promo9.drop_duplicates(subset=['account_id', 'event_name', 'event_timestamp'], keep='first', inplace=True)\n"
     ]
    }
   ],
   "source": [
    "export_promo9.drop_duplicates(subset=['account_id', 'event_name', 'event_timestamp'], keep='first', inplace=True)"
   ]
  },
  {
   "cell_type": "code",
   "execution_count": 36,
   "metadata": {},
   "outputs": [
    {
     "name": "stderr",
     "output_type": "stream",
     "text": [
      "/var/folders/tp/6kwhdvr504795tj0h4_byy2c0000gn/T/ipykernel_76505/2511732818.py:1: SettingWithCopyWarning: \n",
      "A value is trying to be set on a copy of a slice from a DataFrame\n",
      "\n",
      "See the caveats in the documentation: https://pandas.pydata.org/pandas-docs/stable/user_guide/indexing.html#returning-a-view-versus-a-copy\n",
      "  export_promo10.drop_duplicates(subset=['account_id', 'event_name', 'event_timestamp'], keep='first', inplace=True)\n"
     ]
    }
   ],
   "source": [
    "export_promo10.drop_duplicates(subset=['account_id', 'event_name', 'event_timestamp'], keep='first', inplace=True)"
   ]
  },
  {
   "cell_type": "markdown",
   "metadata": {},
   "source": [
    "# Save new data"
   ]
  },
  {
   "cell_type": "code",
   "execution_count": 24,
   "metadata": {},
   "outputs": [],
   "source": [
    "export_promo1.to_csv('export_promo1.csv')"
   ]
  },
  {
   "cell_type": "code",
   "execution_count": 25,
   "metadata": {},
   "outputs": [],
   "source": [
    "export_promo2.to_csv('export_promo2.csv')"
   ]
  },
  {
   "cell_type": "code",
   "execution_count": 26,
   "metadata": {},
   "outputs": [],
   "source": [
    "export_promo3.to_csv('export_promo3.csv')"
   ]
  },
  {
   "cell_type": "code",
   "execution_count": 27,
   "metadata": {},
   "outputs": [],
   "source": [
    "export_promo4.to_csv('export_promo4.csv')"
   ]
  },
  {
   "cell_type": "code",
   "execution_count": 37,
   "metadata": {},
   "outputs": [],
   "source": [
    "export_promo5.to_csv('export_promo5.csv')"
   ]
  },
  {
   "cell_type": "code",
   "execution_count": 38,
   "metadata": {},
   "outputs": [],
   "source": [
    "export_promo6.to_csv('export_promo6.csv')"
   ]
  },
  {
   "cell_type": "code",
   "execution_count": 39,
   "metadata": {},
   "outputs": [],
   "source": [
    "export_promo7.to_csv('export_promo7.csv')"
   ]
  },
  {
   "cell_type": "code",
   "execution_count": 40,
   "metadata": {},
   "outputs": [],
   "source": [
    "export_promo8.to_csv('export_promo8.csv')"
   ]
  },
  {
   "cell_type": "code",
   "execution_count": 41,
   "metadata": {},
   "outputs": [],
   "source": [
    "export_promo9.to_csv('export_promo9.csv')"
   ]
  },
  {
   "cell_type": "code",
   "execution_count": 42,
   "metadata": {},
   "outputs": [],
   "source": [
    "export_promo10.to_csv('export_promo10.csv')"
   ]
  }
 ],
 "metadata": {
  "kernelspec": {
   "display_name": "Python 3",
   "language": "python",
   "name": "python3"
  },
  "language_info": {
   "codemirror_mode": {
    "name": "ipython",
    "version": 3
   },
   "file_extension": ".py",
   "mimetype": "text/x-python",
   "name": "python",
   "nbconvert_exporter": "python",
   "pygments_lexer": "ipython3",
   "version": "3.11.2"
  }
 },
 "nbformat": 4,
 "nbformat_minor": 2
}
